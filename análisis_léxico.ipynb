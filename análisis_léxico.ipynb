{
 "cells": [
  {
   "cell_type": "code",
   "execution_count": 1,
   "metadata": {},
   "outputs": [],
   "source": [
    "import es_core_news_sm\n",
    "from spacy import displacy"
   ]
  },
  {
   "cell_type": "code",
   "execution_count": 2,
   "metadata": {},
   "outputs": [],
   "source": [
    "nlp = es_core_news_sm.load()"
   ]
  },
  {
   "cell_type": "code",
   "execution_count": 3,
   "metadata": {},
   "outputs": [],
   "source": [
    "def Etiquetar(texto):\n",
    "   doc = nlp(texto)\n",
    "   Etiquetado = ''.join(t.text+\"/\"+t.pos_+\" \" for t in doc)\n",
    "   return(Etiquetado.rstrip())"
   ]
  },
  {
   "cell_type": "code",
   "execution_count": 4,
   "metadata": {},
   "outputs": [
    {
     "name": "stdout",
     "output_type": "stream",
     "text": [
      "La/DET fuerte/ADJ crisis/NOUN econÃ³mica/ADJ que/SCONJ provocÃ³/VERB en/ADP el/DET fÃºtbol/NOUN la/DET pandemia/NOUN del/ADP coronavirus/NOUN trajo/VERB nuevamente/ADV a/ADP escena/NOUN una/PRON de/ADP las/DET modalidades/NOUN de/ADP intercambio/NOUN mÃ¡s/ADJ viejas/ADJ de/ADP la/DET historia/NOUN :/PUNCT el/DET trueque/NOUN ./PUNCT Ante/ADP la/DET falta/NOUN de/ADP dinero/NOUN ,/PUNCT muchas/DET instituciones/NOUN saldrÃ¡n/VERB al/ADP mercado/NOUN de/ADP pases/NOUN ofreciendo/VERB a/ADP algunas/PRON de/ADP sus/DET figuras/NOUN ./PUNCT \n",
      "\n",
      "/SPACE En/ADP las/DET Ãºltimas/PROPN horas/NOUN la/DET prensa/NOUN italiana/ADJ ,/PUNCT y/CCONJ luego/ADV Deportes/PROPN Quatro/PROPN de/ADP EspaÃ±a/PROPN ,/PUNCT se/PRON hicieron/VERB eco/NOUN de/ADP una/DET serie/NOUN de/ADP movimientos/NOUN en/ADP la/DET prÃ³xima/ADJ ventana/NOUN de/ADP transferencias/NOUN que/PRON cambiarÃ­a/VERB el/DET mapa/PROPN por/ADP completo/NOUN en/ADP toda/DET Europa/PROPN ./PUNCT \n",
      "\n",
      "/SPACE Esta/DET informaciÃ³n/NOUN asegura/VERB que/SCONJ Juventus/PROPN intentarÃ/PRON ¡/PUNCT recuperar/VERB algo/PRON del/ADP dinero/NOUN invertido/ADJ por/ADP Cristiano/PROPN Ronaldo/PROPN (/PUNCT 35/NUM aÃ±os/NUM de/ADP edad/NOUN )/PUNCT para/ADP ir/VERB en/ADP bÃºsqueda/NOUN de/ADP una/DET figura/NOUN mÃ¡s/ADJ joven/ADJ ./PUNCT Su/DET destino/NOUN serÃ­a/VERB el/DET ParÃ­s/PROPN Saint/PROPN Germain/PROPN ,/PUNCT club/NOUN que/PRON abonarÃ­a/AUX una/DET cifra/NOUN que/PRON oscilarÃ­a/PROPN entre/ADP los/DET 60/NUM y/CCONJ 70/NUM millones/NOUN de/ADP euros/NOUN por/ADP el/DET delantero/NOUN portuguÃ/ADV ©/PROPN s./NUM\n"
     ]
    }
   ],
   "source": [
    "texto = open(\"d20.txt\", 'r', encoding=\"latin1\").read()\n",
    "texto_etiquetado = Etiquetar(texto)\n",
    "print(texto_etiquetado)"
   ]
  }
 ],
 "metadata": {
  "kernelspec": {
   "display_name": "Python 3 (ipykernel)",
   "language": "python",
   "name": "python3"
  },
  "language_info": {
   "codemirror_mode": {
    "name": "ipython",
    "version": 3
   },
   "file_extension": ".py",
   "mimetype": "text/x-python",
   "name": "python",
   "nbconvert_exporter": "python",
   "pygments_lexer": "ipython3",
   "version": "3.10.9"
  }
 },
 "nbformat": 4,
 "nbformat_minor": 4
}
